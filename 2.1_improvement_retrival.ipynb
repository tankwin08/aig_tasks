{
 "cells": [
  {
   "cell_type": "code",
   "execution_count": 1,
   "metadata": {},
   "outputs": [
    {
     "name": "stderr",
     "output_type": "stream",
     "text": [
      "/Users/tankwin08/Desktop/projects/personal/aig_tasks/.venv/lib/python3.10/site-packages/tqdm/auto.py:21: TqdmWarning: IProgress not found. Please update jupyter and ipywidgets. See https://ipywidgets.readthedocs.io/en/stable/user_install.html\n",
      "  from .autonotebook import tqdm as notebook_tqdm\n"
     ]
    }
   ],
   "source": [
    "import pandas as pd\n",
    "import numpy as np\n",
    "from sentence_transformers import SentenceTransformer\n",
    "from sklearn.preprocessing import StandardScaler\n",
    "from sklearn.decomposition import PCA\n",
    "from sklearn.cluster import KMeans\n",
    "from scipy import stats\n",
    "import matplotlib.pyplot as plt\n",
    "import seaborn as sns\n",
    "import uuid\n",
    "import os\n",
    "import json\n",
    "import datasets\n",
    "from sklearn.metrics.pairwise import cosine_similarity\n",
    "from itertools import islice"
   ]
  },
  {
   "cell_type": "markdown",
   "metadata": {},
   "source": [
    "# Load data"
   ]
  },
  {
   "cell_type": "code",
   "execution_count": 2,
   "metadata": {},
   "outputs": [],
   "source": [
    "# Initialize\n",
    "all_dfs = []\n",
    "\n",
    "# List of years to process\n",
    "years = [\"year_2018\", \"year_2019\", \"year_2020\"]\n",
    "\n",
    "for year in years:\n",
    "    # Load dataset for the current year\n",
    "    dataset = datasets.load_dataset(\"eloukas/edgar-corpus\", year, split=\"train\")\n",
    "    \n",
    "    # Convert to pandas DataFrame and take top 10 rows, mostl\n",
    "    df = dataset.to_pandas().head(10)\n",
    "    \n",
    "    # Handle missing values\n",
    "    df = df.fillna(pd.NA).replace(pd.NA, None)\n",
    "    \n",
    "    # Append to the list of DataFrames\n",
    "    all_dfs.append(df)\n",
    "\n",
    "# Concatenate all DataFrames\n",
    "final_df = pd.concat(all_dfs, ignore_index=True)"
   ]
  },
  {
   "cell_type": "code",
   "execution_count": 3,
   "metadata": {},
   "outputs": [],
   "source": [
    "final_df.to_csv(\"results/test_three_years.csv\", index=False)"
   ]
  },
  {
   "cell_type": "code",
   "execution_count": 3,
   "metadata": {},
   "outputs": [
    {
     "data": {
      "text/html": [
       "<div>\n",
       "<style scoped>\n",
       "    .dataframe tbody tr th:only-of-type {\n",
       "        vertical-align: middle;\n",
       "    }\n",
       "\n",
       "    .dataframe tbody tr th {\n",
       "        vertical-align: top;\n",
       "    }\n",
       "\n",
       "    .dataframe thead th {\n",
       "        text-align: right;\n",
       "    }\n",
       "</style>\n",
       "<table border=\"1\" class=\"dataframe\">\n",
       "  <thead>\n",
       "    <tr style=\"text-align: right;\">\n",
       "      <th></th>\n",
       "      <th>filename</th>\n",
       "      <th>cik</th>\n",
       "      <th>year</th>\n",
       "      <th>section_1</th>\n",
       "      <th>section_1A</th>\n",
       "      <th>section_1B</th>\n",
       "      <th>section_2</th>\n",
       "      <th>section_3</th>\n",
       "      <th>section_4</th>\n",
       "      <th>section_5</th>\n",
       "      <th>...</th>\n",
       "      <th>section_8</th>\n",
       "      <th>section_9</th>\n",
       "      <th>section_9A</th>\n",
       "      <th>section_9B</th>\n",
       "      <th>section_10</th>\n",
       "      <th>section_11</th>\n",
       "      <th>section_12</th>\n",
       "      <th>section_13</th>\n",
       "      <th>section_14</th>\n",
       "      <th>section_15</th>\n",
       "    </tr>\n",
       "  </thead>\n",
       "  <tbody>\n",
       "    <tr>\n",
       "      <th>0</th>\n",
       "      <td>1566373_2018.htm</td>\n",
       "      <td>1566373</td>\n",
       "      <td>2018</td>\n",
       "      <td>Item 1. Business\\nOverview\\nWe are a clinical-...</td>\n",
       "      <td>Item 1A. Risk Factors.\\nInvesting in our commo...</td>\n",
       "      <td>Item 1B. Unresolved Staff Comments.\\nNot appli...</td>\n",
       "      <td>Item 2. Properties.\\nOur current operations ar...</td>\n",
       "      <td>Item 3. Legal Proceedings.\\nFrom time to time,...</td>\n",
       "      <td>Item 4. Mine Safety Disclosures.\\nNot applicab...</td>\n",
       "      <td>Item 5. Market for Registrant’s Common Equity,...</td>\n",
       "      <td>...</td>\n",
       "      <td>Item 8. Financial Statements and Supplementary...</td>\n",
       "      <td>Item 9. Changes in and Disagreements With Acco...</td>\n",
       "      <td>Item 9A. Controls and Procedures.\\nEvaluation ...</td>\n",
       "      <td>Item 9B. Other Information.\\nNone.\\nPART III\\n...</td>\n",
       "      <td>Item 10. Directors, Executive Officers and Cor...</td>\n",
       "      <td>Item 11. Executive Compensation.\\nThe response...</td>\n",
       "      <td>Item 12. Security Ownership of Certain Benefic...</td>\n",
       "      <td>Item 13. Certain Relationships and Related Tra...</td>\n",
       "      <td>Item 14. Principal Accounting Fees and Service...</td>\n",
       "      <td>Item 15. Exhibits, Financial Statement Schedul...</td>\n",
       "    </tr>\n",
       "    <tr>\n",
       "      <th>1</th>\n",
       "      <td>1263364_2018.htm</td>\n",
       "      <td>1263364</td>\n",
       "      <td>2018</td>\n",
       "      <td>Item 1. BUSINESS.\\nOverview\\nThrough our PRC O...</td>\n",
       "      <td>Item 1A. RISK FACTORS.\\nAn investment in our c...</td>\n",
       "      <td></td>\n",
       "      <td>Item 2. PROPERTIES.\\nThere is no private land ...</td>\n",
       "      <td>Item 3. LEGAL PROCEEDINGS.\\nWe have no knowled...</td>\n",
       "      <td>Item 4. MINE SAFETY DISCLOSURES.\\nNot applicab...</td>\n",
       "      <td>Item 5. MARKET FOR REGISTRANT’S COMMON EQUITY,...</td>\n",
       "      <td>...</td>\n",
       "      <td>Item 8. FINANCIAL STATEMENTS AND SUPPLEMENTARY...</td>\n",
       "      <td>Item 9. CHANGES IN AND DISAGREEMENTS WITH ACCO...</td>\n",
       "      <td>Item 9A. CONTROLS AND PROCEDURES.\\nDisclosure ...</td>\n",
       "      <td>Item 9B. OTHER INFORMATION.\\nNone.\\nPART III\\n...</td>\n",
       "      <td>Item 10. DIRECTORS, EXECUTIVE OFFICERS AND COR...</td>\n",
       "      <td>Item 11. EXECUTIVE COMPENSATION.\\nExecutive Of...</td>\n",
       "      <td>Item 12. SECURITY OWNERSHIP OF CERTAIN BENEFIC...</td>\n",
       "      <td>Item 13. CERTAIN RELATIONSHIPS, RELATED TRANSA...</td>\n",
       "      <td>Item 14. PRINCIPAL ACCOUNTING FEES AND SERVICE...</td>\n",
       "      <td>Item 15. EXHIBITS, FINANCIAL STATEMENT SCHEDUL...</td>\n",
       "    </tr>\n",
       "    <tr>\n",
       "      <th>2</th>\n",
       "      <td>1168165_2018.htm</td>\n",
       "      <td>1168165</td>\n",
       "      <td>2018</td>\n",
       "      <td></td>\n",
       "      <td></td>\n",
       "      <td>ITEM 1B.\\nUNRESOLVED STAFF COMMENTS\\nAll Regis...</td>\n",
       "      <td></td>\n",
       "      <td></td>\n",
       "      <td></td>\n",
       "      <td></td>\n",
       "      <td>...</td>\n",
       "      <td></td>\n",
       "      <td>ITEM 9.\\nCHANGES IN AND DISAGREEMENTS WITH ACC...</td>\n",
       "      <td>ITEM 9A.\\nCONTROLS AND PROCEDURES\\nAll Registr...</td>\n",
       "      <td>ITEM 9B.\\nOTHER INFORMATION\\nAll Registrants\\n...</td>\n",
       "      <td>ITEM 10.\\nDIRECTORS, EXECUTIVE OFFICERS AND CO...</td>\n",
       "      <td></td>\n",
       "      <td>ITEM 12.\\nSECURITY OWNERSHIP OF CERTAIN BENEFI...</td>\n",
       "      <td>ITEM 13.\\nCERTAIN RELATIONSHIPS AND RELATED TR...</td>\n",
       "      <td>ITEM 14.\\nPRINCIPAL ACCOUNTING FEES AND SERVIC...</td>\n",
       "      <td>ITEM 15.\\nEXHIBITS, FINANCIAL STATEMENT SCHEDU...</td>\n",
       "    </tr>\n",
       "    <tr>\n",
       "      <th>3</th>\n",
       "      <td>1518171_2018.htm</td>\n",
       "      <td>1518171</td>\n",
       "      <td>2018</td>\n",
       "      <td>Item 1. Business.\\nForward-Looking Statements\\...</td>\n",
       "      <td>Item 1A. Risk Factors.\\nAs a “smaller reportin...</td>\n",
       "      <td>Item 1B. Unresolved Staff Comments.\\nAs a “sma...</td>\n",
       "      <td>Item 2. Properties.\\nOur company does not own ...</td>\n",
       "      <td>Item 3. Legal Proceedings.\\nWe know of no mate...</td>\n",
       "      <td>Item 4. Mine Safety Disclosures.\\nNot applicab...</td>\n",
       "      <td>Item 5. Market for Registrant’s Common Equity,...</td>\n",
       "      <td>...</td>\n",
       "      <td>Item 8. Financial Statements and Supplementary...</td>\n",
       "      <td>Item 9. Changes in and Disagreements with Acco...</td>\n",
       "      <td>Item 9A. Controls and Procedures.\\nEvaluation ...</td>\n",
       "      <td>Item 9B. Other Information.\\nNone.\\nPART III\\n...</td>\n",
       "      <td>Item 10. Directors, Executive Officers and Cor...</td>\n",
       "      <td>Item 11. Executive Compensation.\\nThe followin...</td>\n",
       "      <td>Item 12. Security Ownership of Certain Benefic...</td>\n",
       "      <td>Item 13. Certain Relationships and Related Tra...</td>\n",
       "      <td>Item 14. Principal Accounting Fees and Service...</td>\n",
       "      <td>Item 15. Exhibits, Financial Statement Schedul...</td>\n",
       "    </tr>\n",
       "    <tr>\n",
       "      <th>4</th>\n",
       "      <td>1431567_2018.htm</td>\n",
       "      <td>1431567</td>\n",
       "      <td>2018</td>\n",
       "      <td>ITEM 1. BUSINESS OF OAK VALLEY BANCORP\\nOvervi...</td>\n",
       "      <td>ITEM 1A. RISK FACTORS\\nAn investment in our se...</td>\n",
       "      <td>ITEM 1B. UNRESOLVED STAFF COMMENTS\\nNone.\\nITE...</td>\n",
       "      <td>ITEM 2. PROPERTIES\\nOur main branch office is ...</td>\n",
       "      <td>ITEM 3. LEGAL PROCEEDINGS\\nFrom time to time, ...</td>\n",
       "      <td>ITEM 4. MINE SAFETY DISCLOSURES\\nNot applicabl...</td>\n",
       "      <td>ITEM 5. MARKET FOR REGISTRANT’S COMMON EQUITY,...</td>\n",
       "      <td>...</td>\n",
       "      <td>ITEM 8. FINANCIAL STATEMENTS AND SUPPLEMENTARY...</td>\n",
       "      <td>ITEM 9. CHANGES IN AND DISAGREEMENTS WITH ACCO...</td>\n",
       "      <td>ITEM 9A. CONTROLS AND PROCEDURES\\nEvaluation o...</td>\n",
       "      <td>ITEM 9B. OTHER INFORMATION\\nNone.\\nPART III\\nI...</td>\n",
       "      <td>ITEM 10.\\nDIRECTORS, EXECUTIVE OFFICERS AND CO...</td>\n",
       "      <td>ITEM 11.\\nEXECUTIVE COMPENSATION\\nThe informat...</td>\n",
       "      <td>ITEM 12.\\nSECURITY OWNERSHIP OF CERTAIN BENEFI...</td>\n",
       "      <td>ITEM 13.\\nCERTAIN RELATIONSHIPS AND RELATED TR...</td>\n",
       "      <td>ITEM 14.\\nPRINCIPAL ACCOUNTANT FEES AND SERVIC...</td>\n",
       "      <td>ITEM 15.\\nEXHIBITS, FINANCIAL STATEMENT SCHEDU...</td>\n",
       "    </tr>\n",
       "  </tbody>\n",
       "</table>\n",
       "<p>5 rows × 23 columns</p>\n",
       "</div>"
      ],
      "text/plain": [
       "           filename      cik  year  \\\n",
       "0  1566373_2018.htm  1566373  2018   \n",
       "1  1263364_2018.htm  1263364  2018   \n",
       "2  1168165_2018.htm  1168165  2018   \n",
       "3  1518171_2018.htm  1518171  2018   \n",
       "4  1431567_2018.htm  1431567  2018   \n",
       "\n",
       "                                           section_1  \\\n",
       "0  Item 1. Business\\nOverview\\nWe are a clinical-...   \n",
       "1  Item 1. BUSINESS.\\nOverview\\nThrough our PRC O...   \n",
       "2                                                      \n",
       "3  Item 1. Business.\\nForward-Looking Statements\\...   \n",
       "4  ITEM 1. BUSINESS OF OAK VALLEY BANCORP\\nOvervi...   \n",
       "\n",
       "                                          section_1A  \\\n",
       "0  Item 1A. Risk Factors.\\nInvesting in our commo...   \n",
       "1  Item 1A. RISK FACTORS.\\nAn investment in our c...   \n",
       "2                                                      \n",
       "3  Item 1A. Risk Factors.\\nAs a “smaller reportin...   \n",
       "4  ITEM 1A. RISK FACTORS\\nAn investment in our se...   \n",
       "\n",
       "                                          section_1B  \\\n",
       "0  Item 1B. Unresolved Staff Comments.\\nNot appli...   \n",
       "1                                                      \n",
       "2  ITEM 1B.\\nUNRESOLVED STAFF COMMENTS\\nAll Regis...   \n",
       "3  Item 1B. Unresolved Staff Comments.\\nAs a “sma...   \n",
       "4  ITEM 1B. UNRESOLVED STAFF COMMENTS\\nNone.\\nITE...   \n",
       "\n",
       "                                           section_2  \\\n",
       "0  Item 2. Properties.\\nOur current operations ar...   \n",
       "1  Item 2. PROPERTIES.\\nThere is no private land ...   \n",
       "2                                                      \n",
       "3  Item 2. Properties.\\nOur company does not own ...   \n",
       "4  ITEM 2. PROPERTIES\\nOur main branch office is ...   \n",
       "\n",
       "                                           section_3  \\\n",
       "0  Item 3. Legal Proceedings.\\nFrom time to time,...   \n",
       "1  Item 3. LEGAL PROCEEDINGS.\\nWe have no knowled...   \n",
       "2                                                      \n",
       "3  Item 3. Legal Proceedings.\\nWe know of no mate...   \n",
       "4  ITEM 3. LEGAL PROCEEDINGS\\nFrom time to time, ...   \n",
       "\n",
       "                                           section_4  \\\n",
       "0  Item 4. Mine Safety Disclosures.\\nNot applicab...   \n",
       "1  Item 4. MINE SAFETY DISCLOSURES.\\nNot applicab...   \n",
       "2                                                      \n",
       "3  Item 4. Mine Safety Disclosures.\\nNot applicab...   \n",
       "4  ITEM 4. MINE SAFETY DISCLOSURES\\nNot applicabl...   \n",
       "\n",
       "                                           section_5  ...  \\\n",
       "0  Item 5. Market for Registrant’s Common Equity,...  ...   \n",
       "1  Item 5. MARKET FOR REGISTRANT’S COMMON EQUITY,...  ...   \n",
       "2                                                     ...   \n",
       "3  Item 5. Market for Registrant’s Common Equity,...  ...   \n",
       "4  ITEM 5. MARKET FOR REGISTRANT’S COMMON EQUITY,...  ...   \n",
       "\n",
       "                                           section_8  \\\n",
       "0  Item 8. Financial Statements and Supplementary...   \n",
       "1  Item 8. FINANCIAL STATEMENTS AND SUPPLEMENTARY...   \n",
       "2                                                      \n",
       "3  Item 8. Financial Statements and Supplementary...   \n",
       "4  ITEM 8. FINANCIAL STATEMENTS AND SUPPLEMENTARY...   \n",
       "\n",
       "                                           section_9  \\\n",
       "0  Item 9. Changes in and Disagreements With Acco...   \n",
       "1  Item 9. CHANGES IN AND DISAGREEMENTS WITH ACCO...   \n",
       "2  ITEM 9.\\nCHANGES IN AND DISAGREEMENTS WITH ACC...   \n",
       "3  Item 9. Changes in and Disagreements with Acco...   \n",
       "4  ITEM 9. CHANGES IN AND DISAGREEMENTS WITH ACCO...   \n",
       "\n",
       "                                          section_9A  \\\n",
       "0  Item 9A. Controls and Procedures.\\nEvaluation ...   \n",
       "1  Item 9A. CONTROLS AND PROCEDURES.\\nDisclosure ...   \n",
       "2  ITEM 9A.\\nCONTROLS AND PROCEDURES\\nAll Registr...   \n",
       "3  Item 9A. Controls and Procedures.\\nEvaluation ...   \n",
       "4  ITEM 9A. CONTROLS AND PROCEDURES\\nEvaluation o...   \n",
       "\n",
       "                                          section_9B  \\\n",
       "0  Item 9B. Other Information.\\nNone.\\nPART III\\n...   \n",
       "1  Item 9B. OTHER INFORMATION.\\nNone.\\nPART III\\n...   \n",
       "2  ITEM 9B.\\nOTHER INFORMATION\\nAll Registrants\\n...   \n",
       "3  Item 9B. Other Information.\\nNone.\\nPART III\\n...   \n",
       "4  ITEM 9B. OTHER INFORMATION\\nNone.\\nPART III\\nI...   \n",
       "\n",
       "                                          section_10  \\\n",
       "0  Item 10. Directors, Executive Officers and Cor...   \n",
       "1  Item 10. DIRECTORS, EXECUTIVE OFFICERS AND COR...   \n",
       "2  ITEM 10.\\nDIRECTORS, EXECUTIVE OFFICERS AND CO...   \n",
       "3  Item 10. Directors, Executive Officers and Cor...   \n",
       "4  ITEM 10.\\nDIRECTORS, EXECUTIVE OFFICERS AND CO...   \n",
       "\n",
       "                                          section_11  \\\n",
       "0  Item 11. Executive Compensation.\\nThe response...   \n",
       "1  Item 11. EXECUTIVE COMPENSATION.\\nExecutive Of...   \n",
       "2                                                      \n",
       "3  Item 11. Executive Compensation.\\nThe followin...   \n",
       "4  ITEM 11.\\nEXECUTIVE COMPENSATION\\nThe informat...   \n",
       "\n",
       "                                          section_12  \\\n",
       "0  Item 12. Security Ownership of Certain Benefic...   \n",
       "1  Item 12. SECURITY OWNERSHIP OF CERTAIN BENEFIC...   \n",
       "2  ITEM 12.\\nSECURITY OWNERSHIP OF CERTAIN BENEFI...   \n",
       "3  Item 12. Security Ownership of Certain Benefic...   \n",
       "4  ITEM 12.\\nSECURITY OWNERSHIP OF CERTAIN BENEFI...   \n",
       "\n",
       "                                          section_13  \\\n",
       "0  Item 13. Certain Relationships and Related Tra...   \n",
       "1  Item 13. CERTAIN RELATIONSHIPS, RELATED TRANSA...   \n",
       "2  ITEM 13.\\nCERTAIN RELATIONSHIPS AND RELATED TR...   \n",
       "3  Item 13. Certain Relationships and Related Tra...   \n",
       "4  ITEM 13.\\nCERTAIN RELATIONSHIPS AND RELATED TR...   \n",
       "\n",
       "                                          section_14  \\\n",
       "0  Item 14. Principal Accounting Fees and Service...   \n",
       "1  Item 14. PRINCIPAL ACCOUNTING FEES AND SERVICE...   \n",
       "2  ITEM 14.\\nPRINCIPAL ACCOUNTING FEES AND SERVIC...   \n",
       "3  Item 14. Principal Accounting Fees and Service...   \n",
       "4  ITEM 14.\\nPRINCIPAL ACCOUNTANT FEES AND SERVIC...   \n",
       "\n",
       "                                          section_15  \n",
       "0  Item 15. Exhibits, Financial Statement Schedul...  \n",
       "1  Item 15. EXHIBITS, FINANCIAL STATEMENT SCHEDUL...  \n",
       "2  ITEM 15.\\nEXHIBITS, FINANCIAL STATEMENT SCHEDU...  \n",
       "3  Item 15. Exhibits, Financial Statement Schedul...  \n",
       "4  ITEM 15.\\nEXHIBITS, FINANCIAL STATEMENT SCHEDU...  \n",
       "\n",
       "[5 rows x 23 columns]"
      ]
     },
     "execution_count": 3,
     "metadata": {},
     "output_type": "execute_result"
    }
   ],
   "source": [
    "final_df.head()"
   ]
  },
  {
   "cell_type": "code",
   "execution_count": 4,
   "metadata": {},
   "outputs": [],
   "source": [
    "sections = list(final_df.columns[3:])"
   ]
  },
  {
   "cell_type": "code",
   "execution_count": 5,
   "metadata": {},
   "outputs": [],
   "source": [
    "# Chunking function\n",
    "def chunk_text(text, max_length=1000):\n",
    "    if not text or not isinstance(text, str):\n",
    "        return []\n",
    "    words = text.split()\n",
    "    chunks = []\n",
    "    current_chunk = []\n",
    "    current_length = 0\n",
    "    for word in words:\n",
    "        current_length += len(word) + 1\n",
    "        if current_length > max_length:\n",
    "            chunks.append(\" \".join(current_chunk))\n",
    "            current_chunk = [word]\n",
    "            current_length = len(word) + 1\n",
    "        else:\n",
    "            current_chunk.append(word)\n",
    "    if current_chunk:\n",
    "        chunks.append(\" \".join(current_chunk))\n",
    "    return chunks\n",
    "\n",
    "# Apply chunking to each section and create chunked columns\n",
    "for section in sections:\n",
    "    final_df[f'{section}_chunks'] = final_df[section].apply(chunk_text)"
   ]
  },
  {
   "cell_type": "code",
   "execution_count": 6,
   "metadata": {},
   "outputs": [
    {
     "data": {
      "text/plain": [
       "133"
      ]
     },
     "execution_count": 6,
     "metadata": {},
     "output_type": "execute_result"
    }
   ],
   "source": [
    "len(final_df['section_1_chunks'][0])"
   ]
  },
  {
   "cell_type": "code",
   "execution_count": 7,
   "metadata": {},
   "outputs": [
    {
     "name": "stdout",
     "output_type": "stream",
     "text": [
      "           filename      cik  year  \\\n",
      "0  1566373_2018.htm  1566373  2018   \n",
      "1  1566373_2018.htm  1566373  2018   \n",
      "2  1566373_2018.htm  1566373  2018   \n",
      "3  1566373_2018.htm  1566373  2018   \n",
      "4  1566373_2018.htm  1566373  2018   \n",
      "\n",
      "                                          chunk_text    section  \n",
      "0  Item 1. Business Overview We are a clinical-st...  section_1  \n",
      "1  mechanism of action that is designed to select...  section_1  \n",
      "2  standard of care therapies for the treatment o...  section_1  \n",
      "3  have demonstrated that they potently suppress ...  section_1  \n",
      "4  substantially increase chronic HBV functional ...  section_1  \n",
      "Total chunks: 9876\n"
     ]
    }
   ],
   "source": [
    "# List to hold individual DataFrames\n",
    "dfs = []\n",
    "\n",
    "# Explode each section's chunks individually\n",
    "for section in sections:\n",
    "    # Select relevant columns and explode the chunks column\n",
    "    section_df = final_df[['filename', 'cik', 'year', f'{section}_chunks']].copy()\n",
    "    section_df = section_df.explode(f'{section}_chunks').reset_index(drop=True)\n",
    "    # Rename the exploded column to 'chunk_text' and add 'section' column\n",
    "    section_df = section_df.rename(columns={f'{section}_chunks': 'chunk_text'})\n",
    "    section_df['section'] = section\n",
    "    # Filter out null or empty chunks\n",
    "    section_df = section_df[section_df['chunk_text'].str.strip().ne('')]\n",
    "    dfs.append(section_df)\n",
    "\n",
    "# Union all section DataFrames using concat\n",
    "final_chunks = pd.concat(dfs, ignore_index=True)\n",
    "\n",
    "# Display result\n",
    "print(final_chunks.head())\n",
    "print(f\"Total chunks: {len(final_chunks)}\")"
   ]
  },
  {
   "cell_type": "markdown",
   "metadata": {},
   "source": [
    "## Generate validation dataset"
   ]
  },
  {
   "cell_type": "markdown",
   "metadata": {},
   "source": [
    "final_chunks"
   ]
  },
  {
   "cell_type": "code",
   "execution_count": 9,
   "metadata": {},
   "outputs": [],
   "source": [
    "final_chunks.dropna(inplace=True)"
   ]
  },
  {
   "cell_type": "code",
   "execution_count": 17,
   "metadata": {},
   "outputs": [],
   "source": [
    "embed_text = [f\"company:{row['cik']} year: {row['year']} content: {row['chunk_text']}\" for _, row in final_chunks.iterrows()]"
   ]
  },
  {
   "cell_type": "code",
   "execution_count": 23,
   "metadata": {},
   "outputs": [],
   "source": [
    "final_chunks['embed_text'] = embed_text"
   ]
  },
  {
   "cell_type": "code",
   "execution_count": 19,
   "metadata": {},
   "outputs": [
    {
     "name": "stderr",
     "output_type": "stream",
     "text": [
      "Batches: 100%|██████████| 309/309 [00:26<00:00, 11.73it/s]\n"
     ]
    }
   ],
   "source": [
    "# Step 2: Generate embeddings for chunks\n",
    "\n",
    "embedding_model = SentenceTransformer('multi-qa-MiniLM-L6-cos-v1')\n",
    "embeddings = embedding_model.encode(embed_text, show_progress_bar=True)  # Drop NaN before encoding\n",
    "\n",
    "\n",
    "valid_texts = embed_text\n",
    "valid_embeddings = embeddings\n",
    "text_embedding_pairs = list(zip(valid_texts, valid_embeddings))"
   ]
  },
  {
   "cell_type": "markdown",
   "metadata": {},
   "source": [
    "## Retrival with hybird search"
   ]
  },
  {
   "cell_type": "code",
   "execution_count": 20,
   "metadata": {},
   "outputs": [],
   "source": [
    "from sentence_transformers import SentenceTransformer, CrossEncoder, util\n",
    "from langchain.text_splitter import RecursiveCharacterTextSplitter\n",
    "from langchain.vectorstores import FAISS\n",
    "from langchain.embeddings import HuggingFaceEmbeddings\n",
    "import pandas as pd\n",
    "import numpy as np\n",
    "from rank_bm25 import BM25Okapi\n",
    "import logging\n",
    "\n",
    "# Set up logging for debugging\n",
    "logging.basicConfig(level=logging.DEBUG)\n",
    "logger = logging.getLogger(__name__)"
   ]
  },
  {
   "cell_type": "code",
   "execution_count": 21,
   "metadata": {},
   "outputs": [
    {
     "name": "stderr",
     "output_type": "stream",
     "text": [
      "/var/folders/3z/x5hpbmcj1cjbvv0rtqvppptw0000gn/T/ipykernel_24279/2051951024.py:1: LangChainDeprecationWarning: The class `HuggingFaceEmbeddings` was deprecated in LangChain 0.2.2 and will be removed in 1.0. An updated version of the class exists in the :class:`~langchain-huggingface package and should be used instead. To use it run `pip install -U :class:`~langchain-huggingface` and import as `from :class:`~langchain_huggingface import HuggingFaceEmbeddings``.\n",
      "  embeddings_obj = HuggingFaceEmbeddings(model_name='multi-qa-MiniLM-L6-cos-v1')\n",
      "INFO:sentence_transformers.SentenceTransformer:Use pytorch device_name: mps\n",
      "INFO:sentence_transformers.SentenceTransformer:Load pretrained SentenceTransformer: multi-qa-MiniLM-L6-cos-v1\n",
      "DEBUG:urllib3.connectionpool:https://huggingface.co:443 \"HEAD /sentence-transformers/multi-qa-MiniLM-L6-cos-v1/resolve/main/modules.json HTTP/1.1\" 200 0\n",
      "DEBUG:urllib3.connectionpool:https://huggingface.co:443 \"HEAD /sentence-transformers/multi-qa-MiniLM-L6-cos-v1/resolve/main/config_sentence_transformers.json HTTP/1.1\" 200 0\n",
      "DEBUG:urllib3.connectionpool:https://huggingface.co:443 \"HEAD /sentence-transformers/multi-qa-MiniLM-L6-cos-v1/resolve/main/README.md HTTP/1.1\" 200 0\n",
      "DEBUG:urllib3.connectionpool:https://huggingface.co:443 \"HEAD /sentence-transformers/multi-qa-MiniLM-L6-cos-v1/resolve/main/modules.json HTTP/1.1\" 200 0\n",
      "DEBUG:urllib3.connectionpool:https://huggingface.co:443 \"HEAD /sentence-transformers/multi-qa-MiniLM-L6-cos-v1/resolve/main/sentence_bert_config.json HTTP/1.1\" 200 0\n",
      "DEBUG:urllib3.connectionpool:https://huggingface.co:443 \"HEAD /sentence-transformers/multi-qa-MiniLM-L6-cos-v1/resolve/main/adapter_config.json HTTP/1.1\" 404 0\n",
      "DEBUG:urllib3.connectionpool:https://huggingface.co:443 \"HEAD /sentence-transformers/multi-qa-MiniLM-L6-cos-v1/resolve/main/config.json HTTP/1.1\" 200 0\n",
      "DEBUG:urllib3.connectionpool:https://huggingface.co:443 \"HEAD /sentence-transformers/multi-qa-MiniLM-L6-cos-v1/resolve/main/tokenizer_config.json HTTP/1.1\" 200 0\n",
      "DEBUG:urllib3.connectionpool:https://huggingface.co:443 \"GET /api/models/sentence-transformers/multi-qa-MiniLM-L6-cos-v1/tree/main/additional_chat_templates?recursive=False&expand=False HTTP/1.1\" 404 64\n",
      "DEBUG:urllib3.connectionpool:https://huggingface.co:443 \"GET /api/models/sentence-transformers/multi-qa-MiniLM-L6-cos-v1/revision/main HTTP/1.1\" 200 4898\n",
      "DEBUG:urllib3.connectionpool:https://huggingface.co:443 \"GET /api/models/sentence-transformers/multi-qa-MiniLM-L6-cos-v1 HTTP/1.1\" 200 4898\n",
      "DEBUG:faiss.loader:Environment variable FAISS_OPT_LEVEL is not set, so let's pick the instruction set according to the current CPU\n",
      "INFO:faiss.loader:Loading faiss.\n",
      "INFO:faiss.loader:Successfully loaded faiss.\n",
      "INFO:faiss:Failed to load GPU Faiss: name 'GpuIndexIVFFlat' is not defined. Will not load constructor refs for GPU indexes. This is only an error if you're trying to use GPU Faiss.\n"
     ]
    }
   ],
   "source": [
    "embeddings_obj = HuggingFaceEmbeddings(model_name='multi-qa-MiniLM-L6-cos-v1')\n",
    "vector_store = FAISS.from_embeddings(text_embedding_pairs, embeddings_obj)\n",
    "\n",
    "# vector_store = FAISS.from_embeddings(text_embedding_pairs, embedding_model)\n"
   ]
  },
  {
   "cell_type": "code",
   "execution_count": 22,
   "metadata": {},
   "outputs": [
    {
     "name": "stderr",
     "output_type": "stream",
     "text": [
      "DEBUG:urllib3.connectionpool:https://huggingface.co:443 \"HEAD /cross-encoder/ms-marco-MiniLM-L-6-v2/resolve/main/config.json HTTP/1.1\" 307 0\n",
      "DEBUG:urllib3.connectionpool:https://huggingface.co:443 \"HEAD /cross-encoder/ms-marco-MiniLM-L6-v2/resolve/main/config.json HTTP/1.1\" 200 0\n",
      "DEBUG:urllib3.connectionpool:https://huggingface.co:443 \"HEAD /cross-encoder/ms-marco-MiniLM-L-6-v2/resolve/main/tokenizer_config.json HTTP/1.1\" 307 0\n",
      "DEBUG:urllib3.connectionpool:https://huggingface.co:443 \"HEAD /cross-encoder/ms-marco-MiniLM-L6-v2/resolve/main/tokenizer_config.json HTTP/1.1\" 200 0\n",
      "DEBUG:urllib3.connectionpool:https://huggingface.co:443 \"GET /api/models/cross-encoder/ms-marco-MiniLM-L-6-v2/tree/main/additional_chat_templates?recursive=False&expand=False HTTP/1.1\" 307 147\n",
      "DEBUG:urllib3.connectionpool:https://huggingface.co:443 \"GET /api/models/cross-encoder/ms-marco-MiniLM-L6-v2/tree/main/additional_chat_templates?recursive=False&expand=False HTTP/1.1\" 404 64\n",
      "DEBUG:urllib3.connectionpool:https://huggingface.co:443 \"HEAD /cross-encoder/ms-marco-MiniLM-L-6-v2/resolve/main/README.md HTTP/1.1\" 307 0\n",
      "DEBUG:urllib3.connectionpool:https://huggingface.co:443 \"HEAD /cross-encoder/ms-marco-MiniLM-L6-v2/resolve/main/README.md HTTP/1.1\" 200 0\n",
      "INFO:sentence_transformers.cross_encoder.CrossEncoder:Use pytorch device: mps\n",
      "DEBUG:urllib3.connectionpool:https://huggingface.co:443 \"GET /api/models/cross-encoder/ms-marco-MiniLM-L-6-v2 HTTP/1.1\" 307 82\n",
      "DEBUG:urllib3.connectionpool:https://huggingface.co:443 \"GET /api/models/cross-encoder/ms-marco-MiniLM-L6-v2 HTTP/1.1\" 200 5222\n"
     ]
    }
   ],
   "source": [
    "\n",
    "# Initialize BM25 for keyword search\n",
    "tokenized_corpus = [doc.lower().split() for doc in embed_text]\n",
    "bm25 = BM25Okapi(tokenized_corpus)\n",
    "\n",
    "# Initialize cross-encoder for reranking\n",
    "reranker = CrossEncoder('cross-encoder/ms-marco-MiniLM-L-6-v2')"
   ]
  },
  {
   "cell_type": "code",
   "execution_count": 69,
   "metadata": {},
   "outputs": [],
   "source": [
    "\n",
    "\n",
    "# Hybrid search function with separate scores and search mode option\n",
    "def hybrid_search1(final_chunks,query, k=5, search_mode='hybrid'):\n",
    "    logger.debug(f\"Processing query: {query} with mode: {search_mode}\")\n",
    "    results = []\n",
    "\n",
    "    # Semantic search (Vector search)\n",
    "    if search_mode in ['hybrid', 'vector']:\n",
    "        try:\n",
    "            semantic_results = vector_store.similarity_search_with_score(query, k=k)\n",
    "            semantic_docs = [result[0].page_content for result in semantic_results]\n",
    "            semantic_scores = [result[1] for result in semantic_results]\n",
    "        except Exception as e:\n",
    "            logger.error(f\"Semantic search failed: {e}\")\n",
    "            semantic_docs, semantic_scores = [], []\n",
    "\n",
    "    # Keyword search (BM25)\n",
    "    if search_mode in ['hybrid', 'keyword']:\n",
    "        tokenized_query = query.lower().split()\n",
    "        bm25_scores = bm25.get_scores(tokenized_query)\n",
    "        bm25_top_k = sorted(range(len(bm25_scores)), key=lambda i: bm25_scores[i], reverse=True)[:k]\n",
    "        bm25_docs = [final_chunks.iloc[i]['embed_text'] for i in bm25_top_k if pd.notna(final_chunks.iloc[i]['embed_text'])]\n",
    "        bm25_scores = [bm25_scores[i] for i in bm25_top_k if pd.notna(final_chunks.iloc[i]['embed_text'])]\n",
    "\n",
    "    # Align lengths for hybrid combination\n",
    "    if search_mode == 'hybrid':\n",
    "        min_len = min(len(semantic_docs), len(bm25_docs), k)\n",
    "        semantic_docs = semantic_docs[:min_len] \n",
    "        semantic_scores = semantic_scores[:min_len]\n",
    "        bm25_docs = bm25_docs[:min_len]\n",
    "        bm25_scores = bm25_scores[:min_len]\n",
    "\n",
    "        # Combine results\n",
    "        combined_scores = {}\n",
    "        for i in range(min_len):\n",
    "            doc = semantic_docs[i] if semantic_docs else bm25_docs[i]\n",
    "            sem_score = semantic_scores[i] if semantic_scores else 0.0\n",
    "            bm25_score = bm25_scores[i] if bm25_scores else 0.0\n",
    "            norm_sem_score = sem_score / max(semantic_scores) if semantic_scores and max(semantic_scores) > 0 else 0\n",
    "            norm_bm25_score = bm25_score / max(bm25_scores) if bm25_scores and max(bm25_scores) > 0 else 0\n",
    "            combined_score = (norm_sem_score + norm_bm25_score) / 2 if search_mode == 'hybrid' else 0.0\n",
    "            combined_scores[doc] = combined_score\n",
    "\n",
    "        # Get top-k combined results\n",
    "        top_k_docs = sorted(combined_scores.items(), key=lambda x: x[1], reverse=True)[:k]\n",
    "        top_k_texts = [doc for doc, _ in top_k_docs]\n",
    "        top_k_combined_scores = [score for _, score in top_k_docs]\n",
    "\n",
    "    elif search_mode == 'vector':\n",
    "        top_k_texts = semantic_docs\n",
    "        top_k_combined_scores = semantic_scores\n",
    "    elif search_mode == 'keyword':\n",
    "        top_k_texts = bm25_docs\n",
    "        top_k_combined_scores = bm25_scores\n",
    "    else:\n",
    "        raise ValueError(f\"Unsupported search_mode: {search_mode}. Use 'hybrid', 'vector', or 'keyword'.\")\n",
    "\n",
    "    # Rerank with cross-encoder (optional for all modes)\n",
    "    pairs = [[query, doc] for doc in top_k_texts]\n",
    "    rerank_scores = reranker.predict(pairs) if pairs else [0.0] * k\n",
    "    reranked_indices = np.argsort(rerank_scores)[::-1]\n",
    "    reranked_docs = [top_k_texts[i] if i < len(top_k_texts) else '' for i in reranked_indices]\n",
    "    reranked_scores = [rerank_scores[i] if i < len(rerank_scores) else 0.0 for i in reranked_indices]\n",
    "\n",
    "    # Map back to original DataFrame rows and save separate scores\n",
    "    for doc, combined_score, sem_score, bm25_score, rerank_score in zip(\n",
    "        reranked_docs,\n",
    "        top_k_combined_scores if search_mode == 'hybrid' else [0.0] * k,\n",
    "        semantic_scores if search_mode in ['hybrid', 'vector'] else [0.0] * k,\n",
    "        bm25_scores if search_mode in ['hybrid', 'keyword'] else [0.0] * k,\n",
    "        reranked_scores\n",
    "    ):\n",
    "        idx = final_chunks.index[final_chunks['embed_text'] == doc][0] if doc in final_chunks['embed_text'].values else 0\n",
    "        results.append({\n",
    "            'cik': final_chunks.loc[idx, 'cik'],\n",
    "            'year': final_chunks.loc[idx, 'year'],\n",
    "            'section': final_chunks.loc[idx, 'section'],\n",
    "            'embed_text': doc,\n",
    "            'vector_score': sem_score if search_mode in ['hybrid', 'vector'] else 0.0,\n",
    "            'keyword_score': bm25_score if search_mode in ['hybrid', 'keyword'] else 0.0,\n",
    "            'hybrid_score': combined_score if search_mode == 'hybrid' else 0.0,\n",
    "            'rerank_score': rerank_score\n",
    "        })\n",
    "\n",
    "    return results\n",
    "\n"
   ]
  },
  {
   "cell_type": "code",
   "execution_count": 94,
   "metadata": {},
   "outputs": [],
   "source": [
    "import re\n",
    "import logging\n",
    "logger = logging.getLogger(__name__)\n",
    "\n",
    "def hybrid_search(final_chunks, query, k=5, search_mode='hybrid'):\n",
    "    logger.debug(f\"Processing query: {query} with mode: {search_mode}\")\n",
    "    results = []\n",
    "\n",
    "    # Extract cik and year from query\n",
    "    cik_match = re.search(r'CIK\\s+(\\d+)', query)\n",
    "    year_match = re.search(r'in\\s+(\\d{4})', query)\n",
    "    cik = cik_match.group(1) if cik_match else None\n",
    "    year = year_match.group(1) if year_match else None\n",
    "\n",
    "    # Filter chunks based on cik and year\n",
    "    sub_df = final_chunks.copy()\n",
    "    if cik and year:\n",
    "        sub_df = final_chunks[(final_chunks['cik'] == cik) & (final_chunks['year'] == year)]\n",
    "    elif cik:\n",
    "        sub_df = final_chunks[final_chunks['cik'] == cik]\n",
    "    elif year:\n",
    "        sub_df = final_chunks[final_chunks['year'] == year]\n",
    "\n",
    "    if sub_df.empty:\n",
    "        logger.warning(f\"No data found for cik={cik}, year={year}\")\n",
    "        return results\n",
    "    print(sub_df.shape)\n",
    "    # Semantic search (Vector search) with filtered data\n",
    "    if search_mode in ['hybrid', 'vector']:\n",
    "        try:\n",
    "            # Rebuild vector store with filtered subset if needed\n",
    "            valid_texts = sub_df['embed_text'].dropna().tolist()\n",
    "            if not valid_texts:\n",
    "                raise ValueError(\"No valid texts for vector search\")\n",
    "            valid_embeddings = embedding_model.encode(valid_texts, show_progress_bar=False)\n",
    "            text_embedding_pairs = list(zip(valid_texts, valid_embeddings))\n",
    "            vector_store = FAISS.from_embeddings(text_embedding_pairs, embeddings_obj)\n",
    "            semantic_results = vector_store.similarity_search_with_score(query, k=k)\n",
    "            semantic_docs = [result[0].page_content for result in semantic_results]\n",
    "            semantic_scores = [result[1] for result in semantic_results]\n",
    "        except Exception as e:\n",
    "            logger.error(f\"Semantic search failed: {e}\")\n",
    "            semantic_docs, semantic_scores = [], []\n",
    "\n",
    "    # Keyword search (BM25) with filtered data\n",
    "    if search_mode in ['hybrid', 'keyword']:\n",
    "        tokenized_corpus = [doc.lower().split() for doc in sub_df['embed_text'].dropna()]\n",
    "        if not tokenized_corpus:\n",
    "            raise ValueError(\"No valid texts for keyword search\")\n",
    "        bm25 = BM25Okapi(tokenized_corpus)\n",
    "        tokenized_query = query.lower().split()\n",
    "        bm25_scores = bm25.get_scores(tokenized_query)\n",
    "        bm25_top_k = sorted(range(len(bm25_scores)), key=lambda i: bm25_scores[i], reverse=True)[:k]\n",
    "        bm25_docs = [sub_df.iloc[i]['embed_text'] for i in bm25_top_k if pd.notna(sub_df.iloc[i]['embed_text'])]\n",
    "        bm25_scores = [bm25_scores[i] for i in bm25_top_k if pd.notna(sub_df.iloc[i]['embed_text'])]\n",
    "\n",
    "    # Align lengths for hybrid combination\n",
    "    if search_mode == 'hybrid':\n",
    "        min_len = min(len(semantic_docs), len(bm25_docs), k)\n",
    "        semantic_docs = semantic_docs[:min_len] \n",
    "        semantic_scores = semantic_scores[:min_len]\n",
    "        bm25_docs = bm25_docs[:min_len]\n",
    "        bm25_scores = bm25_scores[:min_len]\n",
    "\n",
    "        # Combine results\n",
    "        combined_scores = {}\n",
    "        for i in range(min_len):\n",
    "            doc = semantic_docs[i] if semantic_docs else bm25_docs[i]\n",
    "            sem_score = semantic_scores[i] if semantic_scores else 0.0\n",
    "            bm25_score = bm25_scores[i] if bm25_scores else 0.0\n",
    "            norm_sem_score = sem_score / max(semantic_scores) if semantic_scores and max(semantic_scores) > 0 else 0\n",
    "            norm_bm25_score = bm25_score / max(bm25_scores) if bm25_scores and max(bm25_scores) > 0 else 0\n",
    "            combined_score = (norm_sem_score + norm_bm25_score) / 2 if search_mode == 'hybrid' else 0.0\n",
    "            combined_scores[doc] = combined_score\n",
    "\n",
    "        # Get top-k combined results\n",
    "        top_k_docs = sorted(combined_scores.items(), key=lambda x: x[1], reverse=True)[:k]\n",
    "        top_k_texts = [doc for doc, _ in top_k_docs]\n",
    "        top_k_combined_scores = [score for _, score in top_k_docs]\n",
    "\n",
    "    elif search_mode == 'vector':\n",
    "        top_k_texts = semantic_docs\n",
    "        top_k_combined_scores = semantic_scores\n",
    "    elif search_mode == 'keyword':\n",
    "        top_k_texts = bm25_docs\n",
    "        top_k_combined_scores = bm25_scores\n",
    "    else:\n",
    "        raise ValueError(f\"Unsupported search_mode: {search_mode}. Use 'hybrid', 'vector', or 'keyword'.\")\n",
    "\n",
    "    # Rerank with cross-encoder\n",
    "    pairs = [[query, doc] for doc in top_k_texts]\n",
    "    rerank_scores = reranker.predict(pairs) if pairs else [0.0] * k\n",
    "    reranked_indices = np.argsort(rerank_scores)[::-1]\n",
    "    reranked_docs = [top_k_texts[i] if i < len(top_k_texts) else '' for i in reranked_indices]\n",
    "    reranked_scores = [rerank_scores[i] if i < len(rerank_scores) else 0.0 for i in reranked_indices]\n",
    "\n",
    "    # Map back to original DataFrame rows and save separate scores\n",
    "    for doc, combined_score, sem_score, bm25_score, rerank_score in zip(\n",
    "        reranked_docs,\n",
    "        top_k_combined_scores if search_mode == 'hybrid' else [0.0] * k,\n",
    "        semantic_scores if search_mode in ['hybrid', 'vector'] else [0.0] * k,\n",
    "        bm25_scores if search_mode in ['hybrid', 'keyword'] else [0.0] * k,\n",
    "        reranked_scores\n",
    "    ):\n",
    "        idx = sub_df.index[sub_df['embed_text'] == doc][0] if doc in sub_df['embed_text'].values else 0\n",
    "        results.append({\n",
    "            'cik': sub_df.loc[idx, 'cik'],\n",
    "            'year': sub_df.loc[idx, 'year'],\n",
    "            'section': sub_df.loc[idx, 'section'],\n",
    "            'embed_text': doc,\n",
    "            'vector_score': sem_score if search_mode in ['hybrid', 'vector'] else 0.0,\n",
    "            'keyword_score': bm25_score if search_mode in ['hybrid', 'keyword'] else 0.0,\n",
    "            'hybrid_score': combined_score if search_mode == 'hybrid' else 0.0,\n",
    "            'rerank_score': rerank_score\n",
    "        })\n",
    "\n",
    "    return results"
   ]
  },
  {
   "cell_type": "code",
   "execution_count": 95,
   "metadata": {},
   "outputs": [
    {
     "name": "stderr",
     "output_type": "stream",
     "text": [
      "DEBUG:__main__:Processing query: What is the details overview and overview history of the company with CIK 1168165 in 2018? with mode: hybrid\n"
     ]
    },
    {
     "name": "stdout",
     "output_type": "stream",
     "text": [
      "(504, 6)\n"
     ]
    },
    {
     "name": "stderr",
     "output_type": "stream",
     "text": [
      "Batches: 100%|██████████| 1/1 [00:00<00:00,  8.24it/s]\n"
     ]
    }
   ],
   "source": [
    "# Example query with different search modes\n",
    "query = \"What is the details overview and overview history of the company with CIK 1168165 in 2018?\"\n",
    "# we have a function which can idnetify which company and year\n",
    "mode = 'hybrid'\n",
    "\n",
    "retrieved_results = hybrid_search(final_chunks,query, k=10, search_mode=mode)\n",
    "\n",
    "\n",
    "# sub_df =  final_chunks[(final_chunks['cik']== '1046025')\n",
    "#             &(final_chunks['year']== '2018')]\n",
    "# retrieved_results = hybrid_search(sub_df,query, k=10, search_mode=mode)\n",
    "\n"
   ]
  },
  {
   "cell_type": "markdown",
   "metadata": {},
   "source": [
    "## Debug"
   ]
  },
  {
   "cell_type": "code",
   "execution_count": 86,
   "metadata": {},
   "outputs": [],
   "source": [
    "# Extract cik and year from query\n",
    "cik_match = re.search(r'CIK\\s+(\\d+)', query)\n",
    "year_match = re.search(r'in\\s+(\\d{4})', query)\n",
    "cik = cik_match.group(1) if cik_match else None\n",
    "year = year_match.group(1) if year_match else None\n",
    "\n",
    "# Filter chunks based on cik and year\n",
    "sub_df = final_chunks.copy()\n",
    "if cik and year:\n",
    "    sub_df = final_chunks[(final_chunks['cik'] == cik) & (final_chunks['year'] == year)]\n",
    "elif cik:\n",
    "    sub_df = final_chunks[final_chunks['cik'] == cik]\n",
    "elif year:\n",
    "    sub_df = final_chunks[final_chunks['year'] == year]"
   ]
  },
  {
   "cell_type": "code",
   "execution_count": 87,
   "metadata": {},
   "outputs": [],
   "source": [
    "sub_df = final_chunks[(final_chunks['cik'] == cik) \n",
    "& (final_chunks['year'] == year)\n",
    "]"
   ]
  },
  {
   "cell_type": "code",
   "execution_count": 88,
   "metadata": {},
   "outputs": [
    {
     "data": {
      "text/plain": [
       "(504, 6)"
      ]
     },
     "execution_count": 88,
     "metadata": {},
     "output_type": "execute_result"
    }
   ],
   "source": [
    "sub_df.shape"
   ]
  },
  {
   "cell_type": "code",
   "execution_count": 89,
   "metadata": {},
   "outputs": [],
   "source": [
    "# Rebuild vector store with filtered subset if needed\n",
    "valid_texts = sub_df['embed_text'].dropna().tolist()\n",
    "if not valid_texts:\n",
    "    raise ValueError(\"No valid texts for vector search\")\n",
    "valid_embeddings = embedding_model.encode(valid_texts, show_progress_bar=False)\n",
    "text_embedding_pairs = list(zip(valid_texts, valid_embeddings))\n",
    "vector_store = FAISS.from_embeddings(text_embedding_pairs, embeddings_obj)\n",
    "semantic_results = vector_store.similarity_search_with_score(query, k=k)\n",
    "semantic_docs = [result[0].page_content for result in semantic_results]\n",
    "semantic_scores = [result[1] for result in semantic_results]"
   ]
  },
  {
   "cell_type": "code",
   "execution_count": 90,
   "metadata": {},
   "outputs": [
    {
     "data": {
      "text/plain": [
       "[\"company:1168165 year: 2018 content: Financial Statements and ITEM 7. MANAGEMENT'S DISCUSSION AND ANALYSIS OF FINANCIAL CONDITION AND RESULTS OF OPERATIONS. __________ (a) The 2016 financial results include the activity of PHI from the merger effective date of March 24, 2016 through December 31, 2016. (b) On April 1, 2014, Generation assumed operational control of CENG’s nuclear fleet. As a result, the 2014 financial results include CENG’s results of operations on a fully consolidated basis. (c) Amounts have been recasted to reflect the Improving the Presentation of Net Periodic Pension Cost and Net Periodic Postretirement Benefit Cost guidance adopted as of January 1, 2018. See Note 1 - Significant Accounting Policies of the Combined Notes to Consolidated Financial Statements for additional information. (d) Amounts for 2017 and 2016 have been recasted to reflect the Revenue from Contracts with Customers guidance adopted as of January 1, 2018. See Note 1 - Significant Accounting Policies of the Combined Notes to\",\n",
       " 'company:1168165 year: 2018 content: audited the consolidated financial statements, including the related notes, as listed in the index appearing under Item 15(a)(6)(i), and the financial statement schedule listed in the index appearing under Item 15(a)(6)(iii), of Pepco Holdings LLC and its subsidiaries (Successor) (the \"Company\") (collectively referred to as the “consolidated financial statements”). We also have audited the Company\\'s internal control over financial reporting as of December 31, 2018, based on criteria established in Internal Control - Integrated Framework (2013) issued by the Committee of Sponsoring Organizations of the Treadway Commission (COSO). In our opinion, the consolidated financial statements referred to above present fairly, in all material respects, the financial position of the Company as of December 31, 2018 and 2017, and the results of its operations and its cash flows for each of the two years in the period ended December 31, 2018 and for the period from March 24, 2016 to December 31, 2016',\n",
       " 'company:1168165 year: 2018 content: and Director Joseph Dominguez /s/ JEANNE M. JONES Senior Vice President, Chief Financial Officer and Treasurer (Principal Financial Officer) Jeanne M. Jones /s/ GERALD J. KOZEL Vice President and Controller (Principal Accounting Officer) Gerald J. Kozel /s/ CHRISTOPHER M. CRANE Chairman and Director Christopher M. Crane This annual report has also been signed below by Joseph Dominguez, Attorney-in-Fact, on behalf of the following Directors on the date indicated: James W. Compton Christopher M. Crane A. Steven Crown Nicholas DeBenedictis Peter V. Fazio, Jr. Michael H. Moskow Anne R. Pramaggiore SIGNATURES Pursuant to the requirements of Section 13 or 15(d) of the Securities Exchange Act of 1934, the Registrant has duly caused this report to be signed on its behalf by the undersigned, thereunto duly authorized, in the City of Chicago and State of Illinois on the 8th day of February, 2019. PECO ENERGY COMPANY By: /s/ MICHAEL A. INNOCENZO Name: Michael A. Innocenzo Title: President and',\n",
       " 'company:1168165 year: 2018 content: statement presentation. We believe that our audit provides a reasonable basis for our opinion. /s/ PricewaterhouseCoopers LLP Washington, DC February 13, 2017 Report of Independent Registered Public Accounting Firm To the Board of Directors and Shareholder of Potomac Electric Power Company Opinion on the Financial Statements We have audited the financial statements, including the related notes, as listed in the index appearing under Item 15(a)(7)(i), and the financial statement schedule listed in the index appearing under Item 15(a)(7)(ii), of Potomac Electric Power Company (the \"Company\") (collectively referred to as the “financial statements”). In our opinion, the financial statements present fairly, in all material respects, the financial position of the Company as of December 31, 2018 and 2017, and the results of its operations and its cash flows for each of the three years in the period ended December 31, 2018 in conformity with accounting principles generally accepted in the',\n",
       " \"company:1168165 year: 2018 content: financial reporting as of December 31, 2018, based on criteria established in Internal Control - Integrated Framework (2013) issued by the COSO. Basis for Opinions The Company's management is responsible for these consolidated financial statements, for maintaining effective internal control over financial reporting, and for its assessment of the effectiveness of internal control over financial reporting, included in Management’s Report on Internal Control Over Financial Reporting appearing under Item 8. Our responsibility is to express opinions on the Company’s consolidated financial statements and on the Company's internal control over financial reporting based on our audits. We are a public accounting firm registered with the Public Company Accounting Oversight Board (United States) (PCAOB) and are required to be independent with respect to the Company in accordance with the U.S. federal securities laws and the applicable rules and regulations of the Securities and Exchange\",\n",
       " \"company:1168165 year: 2018 content: financial reporting as of December 31, 2018, based on criteria established in Internal Control - Integrated Framework (2013) issued by the COSO. Basis for Opinions The Company's management is responsible for these consolidated financial statements, for maintaining effective internal control over financial reporting, and for its assessment of the effectiveness of internal control over financial reporting, included in Management’s Report on Internal Control Over Financial Reporting appearing under Item 8. Our responsibility is to express opinions on the Company’s consolidated financial statements and on the Company's internal control over financial reporting based on our audits. We are a public accounting firm registered with the Public Company Accounting Oversight Board (United States) (PCAOB) and are required to be independent with respect to the Company in accordance with the U.S. federal securities laws and the applicable rules and regulations of the Securities and Exchange\",\n",
       " 'company:1168165 year: 2018 content: M. VELAZQUEZ President and Chief Executive Officer (Principal Executive Officer) David M. Velazquez /s/ PHILLIP S. BARNETT Senior Vice President, Chief Financial Officer and Treasurer (Principal Financial Officer) Phillip S. Barnett /s/ ROBERT M. AIKEN Vice President and Controller (Principal Accounting Officer) Robert M. Aiken /s/ CHRISTOPHER M. CRANE Chairman and Director Christopher M. Crane This annual report has also been signed below by David M. Velazquez, Attorney-in-Fact, on behalf of the following Directors on the date indicated: Christopher M. Crane Ernest Dianastasis Linda W. Cropp Debra P. DiLorenzo Michael E. Cryor Anne R. Pramaggiore SIGNATURES Pursuant to the requirements of Section 13 or 15(d) of the Securities Exchange Act of 1934, the Registrant has duly caused this report to be signed on its behalf by the undersigned, thereunto duly authorized, in the City of Chicago and State of Illinois on the 8th day of February, 2019. POTOMAC ELECTRIC POWER COMPANY By: /s/ DAVID',\n",
       " \"company:1168165 year: 2018 content: appearing under Item 8. Our responsibility is to express opinions on the Company’s consolidated financial statements and on the Company's internal control over financial reporting based on our audits. We are a public accounting firm registered with the Public Company Accounting Oversight Board (United States) (PCAOB) and are required to be independent with respect to the Company in accordance with the U.S. federal securities laws and the applicable rules and regulations of the Securities and Exchange Commission and the PCAOB. We conducted our audits in accordance with the standards of the PCAOB. Those standards require that we plan and perform the audits to obtain reasonable assurance about whether the consolidated financial statements are free of material misstatement, whether due to error or fraud, and whether effective internal control over financial reporting was maintained in all material respects. Our audits of the consolidated financial statements included performing procedures\",\n",
       " 'company:1168165 year: 2018 content: and the financial statement schedule listed in the index appearing under Item 15(a)(4)(ii), of PECO Energy Company and its subsidiaries (the \"Company\") (collectively referred to as the “consolidated financial statements”). We also have audited the Company\\'s internal control over financial reporting as of December 31, 2018, based on criteria established in Internal Control - Integrated Framework (2013) issued by the Committee of Sponsoring Organizations of the Treadway Commission (COSO). In our opinion, the consolidated financial statements referred to above present fairly, in all material respects, the financial position of the Company as of December 31, 2018 and 2017, and the results of its operations and its cash flows for each of the three years in the period ended December 31, 2018 in conformity with accounting principles generally accepted in the United States of America. Also in our opinion, the Company maintained, in all material respects, effective internal control over',\n",
       " \"company:1168165 year: 2018 content: Consolidated Financial Statements Potomac Electric Power Company Statements of Cash Flows See the Combined Notes to Consolidated Financial Statements Potomac Electric Power Company Balance Sheets See the Combined Notes to Consolidated Financial Statements Potomac Electric Power Company Balance Sheets See the Combined Notes to Consolidated Financial Statements Potomac Electric Power Company Statements of Changes in Shareholder's Equity See the Combined Notes to Consolidated Financial Statements Delmarva Power & Light Company Statements of Operations and Comprehensive Income (Loss) See the Combined Notes to Consolidated Financial Statements Delmarva Power & Light Company Statements of Cash Flows See the Combined Notes to Consolidated Financial Statements Delmarva Power & Light Company Balance Sheets See the Combined Notes to Consolidated Financial Statements Delmarva Power & Light Company Balance Sheets See the Combined Notes to Consolidated Financial Statements Delmarva Power & Light\"]"
      ]
     },
     "execution_count": 90,
     "metadata": {},
     "output_type": "execute_result"
    }
   ],
   "source": [
    "semantic_docs"
   ]
  },
  {
   "cell_type": "code",
   "execution_count": 91,
   "metadata": {},
   "outputs": [],
   "source": [
    "# Keyword search (BM25) with filtered data\n",
    "# if search_mode in ['hybrid', 'keyword']:\n",
    "tokenized_corpus = [doc.lower().split() for doc in sub_df['embed_text'].dropna()]\n",
    "if not tokenized_corpus:\n",
    "    raise ValueError(\"No valid texts for keyword search\")\n",
    "bm25 = BM25Okapi(tokenized_corpus)\n",
    "tokenized_query = query.lower().split()\n",
    "bm25_scores = bm25.get_scores(tokenized_query)\n",
    "bm25_top_k = sorted(range(len(bm25_scores)), key=lambda i: bm25_scores[i], reverse=True)[:k]\n",
    "bm25_docs = [sub_df.iloc[i]['embed_text'] for i in bm25_top_k if pd.notna(sub_df.iloc[i]['embed_text'])]\n",
    "bm25_scores = [bm25_scores[i] for i in bm25_top_k if pd.notna(sub_df.iloc[i]['embed_text'])]\n"
   ]
  },
  {
   "cell_type": "code",
   "execution_count": 93,
   "metadata": {},
   "outputs": [
    {
     "data": {
      "text/plain": [
       "(['company:1168165 year: 2018 content: is exposed to market risks associated with credit and interest rates. These risks are described above under Quantitative and Qualitative Disclosures about Market Risk-Exelon. ITEM 7. MANAGEMENT’S DISCUSSION AND ANALYSIS OF FINANCIAL CONDITION AND RESULTS OF OPERATIONS BGE General BGE operates in a single business segment and its operations consist of the purchase and regulated retail sale of electricity and the provision of distribution and transmission services in central Maryland, including the City of Baltimore, and the purchase and regulated retail sale of natural gas and the provision of distribution service in central Maryland, including the City of Baltimore. This segment is discussed in further detail in ITEM 1. BUSINESS-BGE of this Form 10-K. Executive Overview A discussion of items pertinent to BGE’s executive overview is set forth under EXELON CORPORATION - Executive Overview of this Form 10-K. Results of Operations Year Ended December 31, 2018 Compared to Year Ended',\n",
       "  'company:1168165 year: 2018 content: QUALITATIVE DISCLOSURES ABOUT MARKET RISK Pepco Pepco is exposed to market risks associated with credit and interest rates. These risks are described above under Quantitative and Qualitative Disclosures about Market Risk- Exelon. ITEM 7. MANAGEMENT’S DISCUSSION AND ANALYSIS OF FINANCIAL CONDITION AND RESULTS OF OPERATIONS DPL General DPL operates in a single business segment and its operations consist of the purchase and regulated retail sale of electricity and the provision of distribution and transmission services in portions of Maryland and Delaware, and the purchase and regulated retail sale and supply of natural gas in New Castle County, Delaware. This segment is discussed in further detail in ITEM 1. BUSINESS - DPL of this Form 10-K. Executive Overview A discussion of items pertinent to DPL’s executive overview is set forth under EXELON CORPORATION - Executive Overview of this Form 10-K. Results of Operations Year Ended December 31, 2018 Compared to Year Ended December 31, 2017',\n",
       "  'company:1168165 year: 2018 content: ABOUT MARKET RISK Generation Generation is exposed to market risks associated with commodity price, credit, interest rates and equity price. These risks are described above under Quantitative and Qualitative Disclosures about Market Risk - Exelon. ITEM 7. MANAGEMENT’S DISCUSSION AND ANALYSIS OF FINANCIAL CONDITION AND RESULTS OF OPERATIONS ComEd General ComEd operates in a single business segment and its operations consist of the purchase and regulated retail sale of electricity and the provision of distribution and transmission services to retail customers in northern Illinois, including the City of Chicago. This segment is discussed in further detail in ITEM 1. BUSINESS-ComEd of this Form 10-K. Executive Overview A discussion of items pertinent to ComEd’s executive overview is set forth under EXELON CORPORATION-Executive Overview of this Form 10-K. Results of Operations Year Ended December 31, 2018 Compared to Year Ended December 31, 2017 and Year Ended December 31, 2017 Compared to',\n",
       "  'company:1168165 year: 2018 content: distribution service in Pennsylvania in the counties surrounding the City of Philadelphia. This segment is discussed in further detail in ITEM 1. BUSINESS-PECO of this Form 10-K. Executive Overview A discussion of items pertinent to PECO’s executive overview is set forth under EXELON CORPORATION-Executive Overview of this Form 10-K. Results of Operations Year Ended December 31, 2018 Compared to Year Ended December 31, 2017 and Year Ended December 31, 2017 Compared to Year Ended December 31, 2016 A discussion of PECO’s results of operations for 2018 compared to 2017 and for 2017 compared to 2016 is set forth under Results of Operations-PECO in EXELON CORPORATION - Results of Operations of this Form 10-K. Liquidity and Capital Resources PECO’s business is capital intensive and requires considerable capital resources. PECO’s capital resources are primarily provided by internally generated cash flows from operations and, to the extent necessary, external financing, including the issuance',\n",
       "  'company:1168165 year: 2018 content: single business segment and its operations consist of the purchase and regulated retail sale of electricity and the provision of distribution and transmission services to retail customers in District of Columbia and major portions of Prince George’s County and Montgomery County in Maryland. This segment is discussed in further detail in ITEM 1. BUSINESS - Pepco of this Form 10-K. Executive Overview A discussion of items pertinent to Pepco’s executive overview is set forth under EXELON CORPORATION - Executive Overview of this Form 10-K. Results of Operations Year Ended December 31, 2018 Compared to Year Ended December 31, 2017 and Year Ended December 31, 2017 Compared to Year Ended December 31, 2016 A discussion of Pepco’s results of operations for 2018 compared to 2017 and for 2017 compared to 2016 is set forth under Results of Operations-Pepco in EXELON CORPORATION - Results of Operations of this Form 10-K. Liquidity and Capital Resources Pepco’s business is capital intensive and',\n",
       "  'company:1168165 year: 2018 content: customers in portions of southern New Jersey. This segment is discussed in further detail in ITEM 1. BUSINESS - ACE of this Form 10-K. Executive Overview A discussion of items pertinent to ACE’s executive overview is set forth under EXELON CORPORATION - Executive Overview of this Form 10-K. Results of Operations Year Ended December 31, 2018 Compared to Year Ended December 31, 2017 and Year Ended December 31, 2017 Compared to Year Ended December 31, 2016 A discussion of ACE’s results of operations for 2018 compared to 2017 and for 2017 compared to 2016 is set forth under Results of Operations-ACE in EXELON CORPORATION - Results of Operations of this Form 10-K. Liquidity and Capital Resources ACE’s business is capital intensive and requires considerable capital resources. ACE’s capital resources are primarily provided by internally generated cash flows from operations and, to the extent necessary, external financing, including the issuance of long-term debt, commercial paper or credit',\n",
       "  'company:1168165 year: 2018 content: and to a lesser extent, the purchase and regulated retail sale and supply of natural gas in Delaware. This segment is discussed in further detail in ITEM 1. BUSINESS - PHI of this Form 10-K. Executive Overview A discussion of items pertinent to PHI’s executive overview is set forth under EXELON CORPORATION - Executive Overview of this Form 10-K. Results of Operations Successor Period Year Ended December 31, 2018 Compared to Year Ended December 31, 2017, Successor Period of March 24, 2016 to December 31, 2016 and Predecessor Period of January 1, 2016 to March 23, 2016 A discussion of PHI’s results of operations for 2018 compared to 2017, March 24, 2016 to December 31, 2016 and January 1, 2016 to March 23, 2016 is set forth under Results of Operations-PHI in EXELON CORPORATION - Results of Operations of this Form 10-K. Liquidity and Capital Resources PHI’s business is capital intensive and requires considerable capital resources. PHI’s capital resources are primarily provided by',\n",
       "  'company:1168165 year: 2018 content: CONDITION AND RESULTS OF OPERATIONS Exelon Executive Overview Exelon is a utility services holding company engaged in the generation, delivery, and marketing of energy through Generation and the energy distribution and transmission businesses through ComEd, PECO, BGE, Pepco, DPL and ACE. Exelon has twelve reportable segments consisting of Generation’s six reportable segments (Mid-Atlantic, Midwest, New England, New York, ERCOT and Other Power Regions), ComEd, PECO, BGE, Pepco, DPL and ACE. During the first quarter of 2019, due to a change in economics in our New England region, Generation is changing the way that information is reviewed by the CODM. The New England region will no longer be regularly reviewed as a separate region by the CODM nor will it be presented separately in any external information presented to third parties. Information for the New England region will be reviewed by the CODM as part of Other Power Regions. As a result, beginning in the first quarter of 2019,',\n",
       "  \"company:1168165 year: 2018 content: Mid-Atlantic, Midwest, New England, New York, ERCOT and Other Power Regions. These segments are discussed in further detail in ITEM 1. BUSINESS - Exelon Generation Company, LLC of this Form 10-K. Executive Overview A discussion of items pertinent to Generation’s executive overview is set forth under ITEM 7. MANAGEMENT'S DISCUSSION AND ANALYSIS OF FINANCIAL CONDITION AND RESULTS OF OPERATIONS - Exelon Corporation - Executive Overview of this Form 10-K. Results of Operations Year Ended December 31, 2018 Compared to Year Ended December 31, 2017 and Year Ended December 31, 2017 Compared to Year Ended December 31, 2016 A discussion of Generation’s results of operations for 2018 compared to 2017 and 2017 compared to 2016 is set forth under Results of Operations-Generation in EXELON CORPORATION - Results of Operations of this Form 10-K. Liquidity and Capital Resources Generation’s business is capital intensive and requires considerable capital resources. Generation’s capital resources are\",\n",
       "  'company:1168165 year: 2018 content: with the noncontrolling interests state that Generation or EGRP are to provide financial support to the projects in proportion to its current 99% economic interests in the projects. Generation provides operating and capital funding to the wind project entities for ongoing construction, operations and maintenance and there is limited recourse to Generation related to certain wind project entities. However, no additional support to these projects beyond what was contractually required has been provided. Generation is the primary beneficiary of these wind entities because Generation controls the design, construction, and operation of the facilities. In December 2016, Generation sold 100% of the Class B Membership Interests to a tax equity investor and retained 100% of the Class A Membership Interests of its equity interest in one of its wind entities that was previously consolidated under the voting interest model and was subsequently contributed to EGRP in 2017. The wind entity meets'],\n",
       " [np.float64(29.06661401050761),\n",
       "  np.float64(28.04854507642475),\n",
       "  np.float64(27.99217042381598),\n",
       "  np.float64(27.024018697926863),\n",
       "  np.float64(26.307309869035315),\n",
       "  np.float64(25.72292245541156),\n",
       "  np.float64(24.739847747247918),\n",
       "  np.float64(24.08523471891577),\n",
       "  np.float64(22.394820031319036),\n",
       "  np.float64(20.869033222047708)])"
      ]
     },
     "execution_count": 93,
     "metadata": {},
     "output_type": "execute_result"
    }
   ],
   "source": [
    "bm25_docs, bm25_scores"
   ]
  },
  {
   "cell_type": "code",
   "execution_count": 67,
   "metadata": {},
   "outputs": [],
   "source": [
    "results = []\n",
    "\n",
    "semantic_results = vector_store.similarity_search_with_score(query, k=k)\n",
    "semantic_docs = [result[0].page_content for result in semantic_results]\n",
    "semantic_scores = [result[1] for result in semantic_results]"
   ]
  },
  {
   "cell_type": "code",
   "execution_count": null,
   "metadata": {},
   "outputs": [],
   "source": [
    "final_chunks"
   ]
  },
  {
   "cell_type": "code",
   "execution_count": null,
   "metadata": {},
   "outputs": [],
   "source": [
    "\n",
    "\n",
    "\n",
    "tokenized_query = query.lower().split()\n",
    "bm25_scores = bm25.get_scores(tokenized_query)\n",
    "bm25_top_k = sorted(range(len(bm25_scores)), key=lambda i: bm25_scores[i], reverse=True)[:k]\n",
    "bm25_docs = [final_chunks.iloc[i]['embed_text'] for i in bm25_top_k if pd.notna(final_chunks.iloc[i]['embed_text'])]\n",
    "bm25_scores = [bm25_scores[i] for i in bm25_top_k if pd.notna(final_chunks.iloc[i]['embed_text'])]"
   ]
  },
  {
   "cell_type": "code",
   "execution_count": null,
   "metadata": {},
   "outputs": [],
   "source": [
    "bm"
   ]
  },
  {
   "cell_type": "code",
   "execution_count": 46,
   "metadata": {},
   "outputs": [
    {
     "data": {
      "text/plain": [
       "0"
      ]
     },
     "execution_count": 46,
     "metadata": {},
     "output_type": "execute_result"
    }
   ],
   "source": [
    "min_len"
   ]
  },
  {
   "cell_type": "markdown",
   "metadata": {},
   "source": [
    "# Get all results"
   ]
  },
  {
   "cell_type": "code",
   "execution_count": 105,
   "metadata": {},
   "outputs": [
    {
     "name": "stderr",
     "output_type": "stream",
     "text": [
      "DEBUG:__main__:Processing query: What is the details overview and overview history of the company with CIK 1168165 in 2018? with mode: hybrid\n"
     ]
    },
    {
     "name": "stdout",
     "output_type": "stream",
     "text": [
      "\n",
      "Results for hybrid search:\n",
      "(504, 6)\n"
     ]
    },
    {
     "name": "stderr",
     "output_type": "stream",
     "text": [
      "Batches: 100%|██████████| 1/1 [00:00<00:00, 95.65it/s]\n",
      "DEBUG:__main__:Processing query: What is the details overview and overview history of the company with CIK 1168165 in 2018? with mode: vector\n"
     ]
    },
    {
     "name": "stdout",
     "output_type": "stream",
     "text": [
      "       cik  year     section  \\\n",
      "0  1168165  2018  section_1B   \n",
      "1  1168165  2018  section_1B   \n",
      "2  1168165  2018  section_1B   \n",
      "3  1168165  2018  section_1B   \n",
      "4  1168165  2018  section_1B   \n",
      "5  1168165  2018  section_1B   \n",
      "6  1168165  2018  section_1B   \n",
      "7  1168165  2018  section_15   \n",
      "8  1168165  2018  section_15   \n",
      "\n",
      "                                          embed_text  vector_score  \\\n",
      "0  company:1168165 year: 2018 content: and the fi...      0.868922   \n",
      "1  company:1168165 year: 2018 content: audited th...      0.887480   \n",
      "2  company:1168165 year: 2018 content: Financial ...      0.904708   \n",
      "3  company:1168165 year: 2018 content: financial ...      0.910113   \n",
      "4  company:1168165 year: 2018 content: appearing ...      0.941592   \n",
      "5  company:1168165 year: 2018 content: statement ...      0.941592   \n",
      "6  company:1168165 year: 2018 content: Consolidat...      0.946575   \n",
      "7  company:1168165 year: 2018 content: and Direct...      0.953680   \n",
      "8  company:1168165 year: 2018 content: M. VELAZQU...      0.963014   \n",
      "\n",
      "   keyword_score  hybrid_score  rerank_score  method  \n",
      "0      29.066614      0.946939      2.394663  hybrid  \n",
      "1      28.048545      0.946864      2.087918  hybrid  \n",
      "2      27.992170      0.938972      1.762678  hybrid  \n",
      "3      27.024019      0.932990      1.486657  hybrid  \n",
      "4      26.307310      0.926800      1.426731  hybrid  \n",
      "5      25.722922      0.912453      1.273870  hybrid  \n",
      "6      24.739848      0.904847      0.820293  hybrid  \n",
      "7      24.085235      0.880569      0.407952  hybrid  \n",
      "8      22.394820      0.858986     -0.219803  hybrid  \n",
      "\n",
      "Results for vector search:\n",
      "(504, 6)\n"
     ]
    },
    {
     "name": "stderr",
     "output_type": "stream",
     "text": [
      "Batches: 100%|██████████| 1/1 [00:00<00:00,  8.67it/s]\n",
      "DEBUG:__main__:Processing query: What is the details overview and overview history of the company with CIK 1168165 in 2018? with mode: keyword\n"
     ]
    },
    {
     "name": "stdout",
     "output_type": "stream",
     "text": [
      "       cik  year     section  \\\n",
      "0  1168165  2018  section_1B   \n",
      "1  1168165  2018  section_1B   \n",
      "2  1168165  2018  section_1B   \n",
      "3  1168165  2018  section_1B   \n",
      "4  1168165  2018  section_1B   \n",
      "5  1168165  2018  section_1B   \n",
      "6  1168165  2018  section_1B   \n",
      "7  1168165  2018  section_1B   \n",
      "8  1168165  2018  section_15   \n",
      "9  1168165  2018  section_15   \n",
      "\n",
      "                                          embed_text  vector_score  \\\n",
      "0  company:1168165 year: 2018 content: and the fi...      0.868922   \n",
      "1  company:1168165 year: 2018 content: audited th...      0.887480   \n",
      "2  company:1168165 year: 2018 content: Financial ...      0.904708   \n",
      "3  company:1168165 year: 2018 content: financial ...      0.910113   \n",
      "4  company:1168165 year: 2018 content: financial ...      0.941592   \n",
      "5  company:1168165 year: 2018 content: appearing ...      0.941592   \n",
      "6  company:1168165 year: 2018 content: statement ...      0.946575   \n",
      "7  company:1168165 year: 2018 content: Consolidat...      0.953680   \n",
      "8  company:1168165 year: 2018 content: and Direct...      0.963014   \n",
      "9  company:1168165 year: 2018 content: M. VELAZQU...      0.972080   \n",
      "\n",
      "   keyword_score  hybrid_score  rerank_score  method  \n",
      "0            0.0           0.0      2.394663  vector  \n",
      "1            0.0           0.0      2.087918  vector  \n",
      "2            0.0           0.0      1.762678  vector  \n",
      "3            0.0           0.0      1.486657  vector  \n",
      "4            0.0           0.0      1.486657  vector  \n",
      "5            0.0           0.0      1.426731  vector  \n",
      "6            0.0           0.0      1.273870  vector  \n",
      "7            0.0           0.0      0.820293  vector  \n",
      "8            0.0           0.0      0.407952  vector  \n",
      "9            0.0           0.0     -0.219803  vector  \n",
      "\n",
      "Results for keyword search:\n",
      "(504, 6)\n"
     ]
    },
    {
     "name": "stderr",
     "output_type": "stream",
     "text": [
      "Batches: 100%|██████████| 1/1 [00:00<00:00, 22.52it/s]\n"
     ]
    },
    {
     "name": "stdout",
     "output_type": "stream",
     "text": [
      "       cik  year     section  \\\n",
      "0  1168165  2018  section_1B   \n",
      "1  1168165  2018  section_1B   \n",
      "2  1168165  2018  section_1B   \n",
      "3  1168165  2018  section_1B   \n",
      "4  1168165  2018  section_1B   \n",
      "5  1168165  2018  section_1B   \n",
      "6  1168165  2018  section_1B   \n",
      "7  1168165  2018  section_1B   \n",
      "8  1168165  2018  section_1B   \n",
      "9  1168165  2018  section_1B   \n",
      "\n",
      "                                          embed_text  vector_score  \\\n",
      "0  company:1168165 year: 2018 content: Mid-Atlant...           0.0   \n",
      "1  company:1168165 year: 2018 content: and to a l...           0.0   \n",
      "2  company:1168165 year: 2018 content: single bus...           0.0   \n",
      "3  company:1168165 year: 2018 content: customers ...           0.0   \n",
      "4  company:1168165 year: 2018 content: distributi...           0.0   \n",
      "5  company:1168165 year: 2018 content: ABOUT MARK...           0.0   \n",
      "6  company:1168165 year: 2018 content: is exposed...           0.0   \n",
      "7  company:1168165 year: 2018 content: QUALITATIV...           0.0   \n",
      "8  company:1168165 year: 2018 content: CONDITION ...           0.0   \n",
      "9  company:1168165 year: 2018 content: with the n...           0.0   \n",
      "\n",
      "   keyword_score  hybrid_score  rerank_score   method  \n",
      "0      29.066614           0.0      5.230545  keyword  \n",
      "1      28.048545           0.0      5.160621  keyword  \n",
      "2      27.992170           0.0      4.957139  keyword  \n",
      "3      27.024019           0.0      4.623901  keyword  \n",
      "4      26.307310           0.0      4.415894  keyword  \n",
      "5      25.722922           0.0      4.190674  keyword  \n",
      "6      24.739848           0.0      4.030260  keyword  \n",
      "7      24.085235           0.0      3.320003  keyword  \n",
      "8      22.394820           0.0      3.306298  keyword  \n",
      "9      20.869033           0.0      0.860867  keyword  \n"
     ]
    }
   ],
   "source": [
    "query = \"What is the details overview and overview history of the company with CIK 1168165 in 2018?\"\n",
    "\n",
    "results = []\n",
    "for mode in ['hybrid', 'vector', 'keyword']:\n",
    "    print(f\"\\nResults for {mode} search:\")\n",
    "    retrieved_results = hybrid_search(final_chunks,query, k=10, search_mode=mode)\n",
    "    retrieved_df = pd.DataFrame(retrieved_results)\n",
    "    retrieved_df['method'] = mode\n",
    "    results.append(retrieved_df)\n",
    "    print(retrieved_df)"
   ]
  },
  {
   "cell_type": "code",
   "execution_count": 127,
   "metadata": {},
   "outputs": [],
   "source": [
    "result_df = pd.concat([sub for sub in results], axis=0)\n",
    "result_df['chunk_text'] = result_df['embed_text'].apply(lambda x: x.split('content: ')[1])"
   ]
  },
  {
   "cell_type": "code",
   "execution_count": null,
   "metadata": {},
   "outputs": [],
   "source": [
    "# result_df.to_csv(\"results/retrieval_result_v2.csv\")"
   ]
  },
  {
   "cell_type": "markdown",
   "metadata": {},
   "source": [
    "## Evaluation"
   ]
  },
  {
   "cell_type": "code",
   "execution_count": 262,
   "metadata": {},
   "outputs": [],
   "source": [
    "def cal_recall_precision_f1(reference_df, retrieved_df,col = 'chunk_text'):\n",
    "    common = set(reference_df[col]) & set(retrieved_df[col])\n",
    "    num_correct = len(common)\n",
    "\n",
    "    recall = num_correct / len(reference_df)\n",
    "\n",
    "    precision = num_correct / len(retrieved_df)\n",
    "    f1 = 2 * (precision * recall) / (precision + recall+1e-5)\n",
    "\n",
    "    return [recall, precision, f1]\n",
    "\n",
    "def cal_mmr(reference_df, retrieved_df,col = 'chunk_text'):\n",
    "    common = list(set(reference_df[col]) & set(retrieved_df[col]))[0]\n",
    "    #find the first match and see their rank locaion\n",
    "    rank = list(retrieved_df[col]).index(common) + 1\n",
    "\n",
    "    mrr = rank/len(retrieved_df)    \n",
    "\n",
    "    return mrr"
   ]
  },
  {
   "cell_type": "code",
   "execution_count": 252,
   "metadata": {},
   "outputs": [],
   "source": [
    "# Load validation dataset\n",
    "with open(\"results/val_question_retrieval_pairs_v2.json\", \"r\") as f:\n",
    "    val_data = json.load(f)"
   ]
  },
  {
   "cell_type": "code",
   "execution_count": 203,
   "metadata": {},
   "outputs": [
    {
     "data": {
      "text/plain": [
       "'What is the details overview and overview history of the company with CIK 1168165 in 2018?'"
      ]
     },
     "execution_count": 203,
     "metadata": {},
     "output_type": "execute_result"
    }
   ],
   "source": [
    "query"
   ]
  },
  {
   "cell_type": "code",
   "execution_count": 216,
   "metadata": {},
   "outputs": [],
   "source": [
    "ground_truth_df = pd.DataFrame(val_data[query])"
   ]
  },
  {
   "cell_type": "code",
   "execution_count": 260,
   "metadata": {},
   "outputs": [],
   "source": [
    "methods = list(result_df['method'].unique())\n",
    "cols = ['section','chunk_text']\n",
    "top_k = 5"
   ]
  },
  {
   "cell_type": "code",
   "execution_count": 265,
   "metadata": {},
   "outputs": [
    {
     "name": "stdout",
     "output_type": "stream",
     "text": [
      "hybrid - section: recall: 0.3333333333333333, precision: 0.2, f1: 0.25, mrr: 0.2\n",
      "hybrid - chunk_text: recall: 0.3333333333333333, precision: 0.2, f1: 0.25, mrr: 0.4\n",
      "vector - section: recall: 0.3333333333333333, precision: 0.2, f1: 0.25, mrr: 0.2\n",
      "vector - chunk_text: recall: 0.3333333333333333, precision: 0.2, f1: 0.25, mrr: 0.4\n",
      "keyword - section: recall: 0.3333333333333333, precision: 0.2, f1: 0.25, mrr: 0.2\n",
      "keyword - chunk_text: recall: 0.3333333333333333, precision: 0.2, f1: 0.25, mrr: 0.8\n"
     ]
    }
   ],
   "source": [
    "eval_res = []\n",
    "\n",
    "for method in methods:\n",
    "    sub_df = result_df[result_df[\"method\"] == method]\n",
    "\n",
    "    top_k_df = sub_df.head(top_k)\n",
    "    for col in cols:\n",
    "\n",
    "        tem_res = cal_recall_precision_f1(reference_df= sub_df,\n",
    "                            retrieved_df= top_k_df,\n",
    "                            col = col\n",
    "                            )\n",
    "        mrr = cal_mmr(reference_df= sub_df,\n",
    "                            retrieved_df= top_k_df,\n",
    "                            col = col\n",
    "                            )\n",
    "        print(f\"{method} - {col}: recall: {res[0]}, precision: {res[1]}, f1: {res[2]}, mrr: {mrr}\")\n",
    "\n",
    "        res.append([method, col, mrr]+tem_res)"
   ]
  }
 ],
 "metadata": {
  "kernelspec": {
   "display_name": ".venv",
   "language": "python",
   "name": "python3"
  },
  "language_info": {
   "codemirror_mode": {
    "name": "ipython",
    "version": 3
   },
   "file_extension": ".py",
   "mimetype": "text/x-python",
   "name": "python",
   "nbconvert_exporter": "python",
   "pygments_lexer": "ipython3",
   "version": "3.10.17"
  }
 },
 "nbformat": 4,
 "nbformat_minor": 2
}
